{
  "nbformat": 4,
  "nbformat_minor": 0,
  "metadata": {
    "colab": {
      "provenance": [],
      "mount_file_id": "1-ssU8PeBVAsd74pqaF6OLIEP4zGswlI8",
      "authorship_tag": "ABX9TyNNFq20NCIyoltMdl+Fw1Zt",
      "include_colab_link": true
    },
    "kernelspec": {
      "name": "python3",
      "display_name": "Python 3"
    },
    "language_info": {
      "name": "python"
    }
  },
  "cells": [
    {
      "cell_type": "markdown",
      "metadata": {
        "id": "view-in-github",
        "colab_type": "text"
      },
      "source": [
        "<a href=\"https://colab.research.google.com/github/IJLee0812/Bitcoin-Auto-Trading-Project-Using-Volatility-Breakthrough-Strategy/blob/main/Python_%EB%B3%80%EB%8F%99%EC%84%B1_%EB%8F%8C%ED%8C%8C_%EC%A0%84%EB%9E%B5%EC%9D%84_%EC%9D%B4%EC%9A%A9%ED%95%9C_BTC_%EC%9E%90%EB%8F%99%EB%A7%A4%EB%A7%A4_%ED%94%84%EB%A1%9C%EC%A0%9D%ED%8A%B8.ipynb\" target=\"_parent\"><img src=\"https://colab.research.google.com/assets/colab-badge.svg\" alt=\"Open In Colab\"/></a>"
      ]
    },
    {
      "cell_type": "markdown",
      "source": [
        "# 변동성 돌파 전략 구현 프로젝트\n",
        "\n",
        "▶ 현 비트코인 상승장을 타겟팅한 변동성 돌파 전략의 효율성을 실험해보고자 함."
      ],
      "metadata": {
        "id": "vEdJ_Tfz-f8s"
      }
    },
    {
      "cell_type": "markdown",
      "source": [
        "# 1. 필요 라이브러리 install 및 import"
      ],
      "metadata": {
        "id": "2FiHHsT85Hg_"
      }
    },
    {
      "cell_type": "code",
      "source": [
        "!pip install pyupbit\n",
        "import pyupbit\n",
        "import datetime\n",
        "import time, calendar"
      ],
      "metadata": {
        "colab": {
          "base_uri": "https://localhost:8080/"
        },
        "id": "mvGweltRwGm-",
        "outputId": "cadd0d89-357f-4e71-dcb9-92cb572a2cd2"
      },
      "execution_count": null,
      "outputs": [
        {
          "output_type": "stream",
          "name": "stdout",
          "text": [
            "Requirement already satisfied: pyupbit in /usr/local/lib/python3.10/dist-packages (0.2.33)\n",
            "Requirement already satisfied: pyjwt>=2.0.0 in /usr/lib/python3/dist-packages (from pyupbit) (2.3.0)\n",
            "Requirement already satisfied: pandas in /usr/local/lib/python3.10/dist-packages (from pyupbit) (1.5.3)\n",
            "Requirement already satisfied: requests in /usr/local/lib/python3.10/dist-packages (from pyupbit) (2.31.0)\n",
            "Requirement already satisfied: websockets in /usr/local/lib/python3.10/dist-packages (from pyupbit) (12.0)\n",
            "Requirement already satisfied: python-dateutil>=2.8.1 in /usr/local/lib/python3.10/dist-packages (from pandas->pyupbit) (2.8.2)\n",
            "Requirement already satisfied: pytz>=2020.1 in /usr/local/lib/python3.10/dist-packages (from pandas->pyupbit) (2023.4)\n",
            "Requirement already satisfied: numpy>=1.21.0 in /usr/local/lib/python3.10/dist-packages (from pandas->pyupbit) (1.25.2)\n",
            "Requirement already satisfied: charset-normalizer<4,>=2 in /usr/local/lib/python3.10/dist-packages (from requests->pyupbit) (3.3.2)\n",
            "Requirement already satisfied: idna<4,>=2.5 in /usr/local/lib/python3.10/dist-packages (from requests->pyupbit) (3.6)\n",
            "Requirement already satisfied: urllib3<3,>=1.21.1 in /usr/local/lib/python3.10/dist-packages (from requests->pyupbit) (2.0.7)\n",
            "Requirement already satisfied: certifi>=2017.4.17 in /usr/local/lib/python3.10/dist-packages (from requests->pyupbit) (2024.2.2)\n",
            "Requirement already satisfied: six>=1.5 in /usr/local/lib/python3.10/dist-packages (from python-dateutil>=2.8.1->pandas->pyupbit) (1.16.0)\n"
          ]
        }
      ]
    },
    {
      "cell_type": "markdown",
      "source": [
        "# 2. 함수 정의"
      ],
      "metadata": {
        "id": "GWBdOvjDxY4y"
      }
    },
    {
      "cell_type": "code",
      "source": [
        "\"\"\"\n",
        "    get_targetPrice 함수 : 변동성 돌파 전략을 사용하기 위한 타깃 가격 구하는 함수.\n",
        "    df는 pyupbit의 get_ohlcv() 함수로 받아온 차트 데이터(메인함수에서), 최신의 데이터가 마지막에 저장되어 있으므로\n",
        "    인덱스 -1은 오늘, -2는 어제의 데이터를 나타낸다. 전일 고가와 저가의 차이를 구하여 Range를 구하고, 당일 시가에\n",
        "    range * K 값을 더하여 targetPrice를 구하여 리턴한다.\n",
        "\"\"\"\n",
        "def get_targetPrice(df, K):\n",
        "    range = df['high'][-2] - df['low'][-2]\n",
        "    return df['open'][-1] + range * K\n",
        "\n",
        "\"\"\"\n",
        "    buy_all 함수 : 현재 가지고 있는 KRW 잔액 모두를 사용하여 시장가로 BTC 매수.\n",
        "    (업비트 거래소는 최소 주문 금액 5,000원이므로 이를 만족할 때만 주문이 실행하도록 조건문을 설정함.)\n",
        "\"\"\"\n",
        "def buy_all(coin):\n",
        "    balance = upbit.get_balance(\"KRW\")\n",
        "    if balance > 5000:\n",
        "        upbit.buy_market_order(coin, balance)\n",
        "\"\"\"\n",
        "    sell_all 함수 : BTC를 전량 시장가 매도.\n",
        "    (업비트 거래소는 최소 주문 금액 5,000원이므로 이를 만족할 때만 주문이 실행하도록 조건문을 설정함.)\n",
        "\"\"\"\n",
        "def sell_all(coin): # 가지고 있는 특정 가상화폐를 전량 시장가 매도.\n",
        "    balance = upbit.get_balance(coin)\n",
        "    price = pyupbit.get_current_price(coin)\n",
        "    if price * balance > 5000:\n",
        "        upbit.sell_market_order(coin, balance)"
      ],
      "metadata": {
        "id": "8ZiVMsDuwMLE"
      },
      "execution_count": null,
      "outputs": []
    },
    {
      "cell_type": "markdown",
      "source": [
        "# 3. 메인함수 작성"
      ],
      "metadata": {
        "id": "73zoBjvcxbUh"
      }
    },
    {
      "cell_type": "code",
      "source": [
        "if __name__ == '__main__':\n",
        "    try:\n",
        "        upbit = pyupbit.Upbit('access_key', 'secret_key')   # (Access Key, Secret Key)\n",
        "\n",
        "        coin = \"KRW-BTC\"    # 매매를 진행할 가상화폐 Ticker\n",
        "        fees = 0.0005       # 수수료(0.05%임에 유의)\n",
        "        K = 0.5             # target price를 구할 때 사용할 K값 (백테스팅 결과, BTC는 K = 0.5가 적합)\n",
        "\n",
        "        df = pyupbit.get_ohlcv(coin, count = 2, interval = \"day\")   # 시작 지점에서 차트를 불러옴.\n",
        "        targetPrice = get_targetPrice(df, K)                        # 첫 targetPrice 설정\n",
        "\n",
        "        \"\"\"\n",
        "            반복문 loop : 현재 가상화폐의 가격이 targetPrice보다 높아졌는지 체크하고, 이를 만족하면 전액 매수한다.\n",
        "            매일 09:00 AM은 새로운 일봉이 시작되는 시간이다. 따라서 가지고 있는 BTC 전량 매도 후,\n",
        "            차트 데이터와 targetPrice를 Update한다.\n",
        "            BTC의 현재가가 targetPrice를 돌파해서 매수가 진행되고 나면, 다음날 시가에 이를 매도하기 전까지\n",
        "            아무런 작업을 할 필요가 없기 때문에, 이 시간 동안은 프로그램을 쉬도록 한다.\n",
        "        \"\"\"\n",
        "        while True:\n",
        "            now = datetime.datetime.now()\n",
        "            if now.hour == 9 and now.minute == 0 and now.second == 0:\n",
        "                sell_all(coin)\n",
        "                df = pyupbit.get_ohlcv(coin, count = 2, interval = \"day\")\n",
        "                targetPrice = get_targetPrice(df, K)\n",
        "            if targetPrice <= pyupbit.get_current_price(coin):\n",
        "                buy_all(coin)\n",
        "                start_time = df.index[-1]                               # 오늘 장 시작 시각의 시간 데이터 저장\n",
        "                end_time = start_time + datetime.timedelta(days = 1)    # 다음 날 09:00 AM 값\n",
        "                time.sleep((end_time - now).seconds)                    # 다음 날 장 시작시간까지 남은 시간이 나오고, 이를 초로 환산하여 다음날 장 시작까지 프로그램 멈춤\n",
        "            time.sleep(1)\n",
        "    except Exception as e:  # 예외처리\n",
        "        print(e)\n",
        "        time.sleep(1)"
      ],
      "metadata": {
        "colab": {
          "base_uri": "https://localhost:8080/",
          "height": 211
        },
        "id": "EzUkZ-Zrxeql",
        "outputId": "075c9f26-3a8a-4922-ff0e-9318117430d8"
      },
      "execution_count": null,
      "outputs": [
        {
          "output_type": "error",
          "ename": "KeyboardInterrupt",
          "evalue": "",
          "traceback": [
            "\u001b[0;31m---------------------------------------------------------------------------\u001b[0m",
            "\u001b[0;31mKeyboardInterrupt\u001b[0m                         Traceback (most recent call last)",
            "\u001b[0;32m<ipython-input-11-beb0d6e02eba>\u001b[0m in \u001b[0;36m<cell line: 1>\u001b[0;34m()\u001b[0m\n\u001b[1;32m     28\u001b[0m                 \u001b[0mend_time\u001b[0m \u001b[0;34m=\u001b[0m \u001b[0mstart_time\u001b[0m \u001b[0;34m+\u001b[0m \u001b[0mdatetime\u001b[0m\u001b[0;34m.\u001b[0m\u001b[0mtimedelta\u001b[0m\u001b[0;34m(\u001b[0m\u001b[0mdays\u001b[0m \u001b[0;34m=\u001b[0m \u001b[0;36m1\u001b[0m\u001b[0;34m)\u001b[0m    \u001b[0;31m# 다음 날 09:00 AM 값\u001b[0m\u001b[0;34m\u001b[0m\u001b[0;34m\u001b[0m\u001b[0m\n\u001b[1;32m     29\u001b[0m                 \u001b[0mtime\u001b[0m\u001b[0;34m.\u001b[0m\u001b[0msleep\u001b[0m\u001b[0;34m(\u001b[0m\u001b[0;34m(\u001b[0m\u001b[0mend_time\u001b[0m \u001b[0;34m-\u001b[0m \u001b[0mnow\u001b[0m\u001b[0;34m)\u001b[0m\u001b[0;34m.\u001b[0m\u001b[0mseconds\u001b[0m\u001b[0;34m)\u001b[0m                    \u001b[0;31m# 다음 날 장 시작시간까지 남은 시간이 나오고, 이를 초로 환산하여 다음날 장 시작까지 프로그램 멈춤\u001b[0m\u001b[0;34m\u001b[0m\u001b[0;34m\u001b[0m\u001b[0m\n\u001b[0;32m---> 30\u001b[0;31m             \u001b[0mtime\u001b[0m\u001b[0;34m.\u001b[0m\u001b[0msleep\u001b[0m\u001b[0;34m(\u001b[0m\u001b[0;36m1\u001b[0m\u001b[0;34m)\u001b[0m\u001b[0;34m\u001b[0m\u001b[0;34m\u001b[0m\u001b[0m\n\u001b[0m\u001b[1;32m     31\u001b[0m     \u001b[0;32mexcept\u001b[0m \u001b[0mException\u001b[0m \u001b[0;32mas\u001b[0m \u001b[0me\u001b[0m\u001b[0;34m:\u001b[0m\u001b[0;34m\u001b[0m\u001b[0;34m\u001b[0m\u001b[0m\n\u001b[1;32m     32\u001b[0m         \u001b[0mprint\u001b[0m\u001b[0;34m(\u001b[0m\u001b[0me\u001b[0m\u001b[0;34m)\u001b[0m\u001b[0;34m\u001b[0m\u001b[0;34m\u001b[0m\u001b[0m\n",
            "\u001b[0;31mKeyboardInterrupt\u001b[0m: "
          ]
        }
      ]
    }
  ]
}